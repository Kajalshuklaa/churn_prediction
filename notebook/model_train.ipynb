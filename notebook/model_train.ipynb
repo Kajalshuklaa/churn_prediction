{
 "cells": [
  {
   "cell_type": "code",
   "execution_count": 16,
   "metadata": {},
   "outputs": [],
   "source": [
    "import pandas as pd"
   ]
  },
  {
   "cell_type": "code",
   "execution_count": 17,
   "metadata": {},
   "outputs": [],
   "source": [
    "df=pd.read_csv(r'C:\\Users\\kajal shukla\\Desktop\\Data Science\\ML BOOTCAMP\\data\\preprocess_data\\x.csv')\n",
    "y = pd.read_csv(r'C:\\Users\\kajal shukla\\Desktop\\Data Science\\ML BOOTCAMP\\data\\preprocess_Data\\y.csv')\n",
    "\n"
   ]
  },
  {
   "cell_type": "code",
   "execution_count": 18,
   "metadata": {},
   "outputs": [],
   "source": [
    "# x=df.drop(columns=[\"Churn\"],axis=1)\n",
    "# y=df[\"Churn\"]"
   ]
  },
  {
   "cell_type": "code",
   "execution_count": 19,
   "metadata": {},
   "outputs": [],
   "source": [
    "#'''import joblib\n",
    "#from sklearn.model_selection import train_test_split\n",
    "#from sklearn.preprocessing import StandardScaler\n",
    "\n",
    "#scaler = StandardScaler()\n",
    "#X_train_scaled = scaler.fit_transform(x)\n",
    "\n",
    "#joblib.dump(scaler,r'C:\\Users\\kajal shukla\\Desktop\\Data Science\\ML BOOTCAMP\\models\\scaler')\n",
    "\n",
    "#X_train,X_test,y_train,y_test=train_test_split(X_train_scaled,y,test_size=0.2)'''\n"
   ]
  },
  {
   "cell_type": "code",
   "execution_count": 20,
   "metadata": {},
   "outputs": [
    {
     "data": {
      "text/plain": [
       "\"from sklearn.preprocessing import LabelEncoder\\ncategorical_cols = df.select_dtypes(include=['object']).columns  # Select only categorical columns\\n\\nle = LabelEncoder()\\n\\nfor col in categorical_cols:\\n    X_train[col] = le.fit_transform(X_train[col])  \\n    X_test[col] = X_test[col].map(lambda s: le.transform([s])[0] if s in le.classes_ else -1)  # Handle unseen labels\\n\""
      ]
     },
     "execution_count": 20,
     "metadata": {},
     "output_type": "execute_result"
    }
   ],
   "source": [
    "'''from sklearn.preprocessing import LabelEncoder\n",
    "categorical_cols = df.select_dtypes(include=['object']).columns  # Select only categorical columns\n",
    "\n",
    "le = LabelEncoder()\n",
    "\n",
    "for col in categorical_cols:\n",
    "    X_train[col] = le.fit_transform(X_train[col])  \n",
    "    X_test[col] = X_test[col].map(lambda s: le.transform([s])[0] if s in le.classes_ else -1)  # Handle unseen labels\n",
    "'''"
   ]
  },
  {
   "cell_type": "code",
   "execution_count": 21,
   "metadata": {},
   "outputs": [],
   "source": [
    "df['TotalCharges'] = pd.to_numeric(df['TotalCharges'], errors='coerce')"
   ]
  },
  {
   "cell_type": "code",
   "execution_count": null,
   "metadata": {},
   "outputs": [],
   "source": []
  },
  {
   "cell_type": "code",
   "execution_count": 22,
   "metadata": {},
   "outputs": [],
   "source": [
    "from sklearn.linear_model import LogisticRegression\n",
    "from sklearn.tree import DecisionTreeClassifier\n",
    "from sklearn.ensemble import RandomForestClassifier, AdaBoostClassifier, GradientBoostingClassifier"
   ]
  },
  {
   "cell_type": "code",
   "execution_count": 23,
   "metadata": {},
   "outputs": [],
   "source": [
    "models = [\n",
    "    LogisticRegression(),\n",
    "    DecisionTreeClassifier(random_state=42),\n",
    "    RandomForestClassifier(random_state=42),\n",
    "    AdaBoostClassifier(random_state=42),\n",
    "    GradientBoostingClassifier(random_state=42)\n",
    "]"
   ]
  },
  {
   "cell_type": "code",
   "execution_count": 26,
   "metadata": {},
   "outputs": [],
   "source": [
    "#from sklearn.metrics import accuracy_score\n",
    "\n",
    "#d = {}  # Store model performance\n",
    "#for model in models:\n",
    "   # model.fit(X_train, y_train)\n",
    "   # pred = model.predict(X_test)\n",
    "    #acc = accuracy_score(y_test, pred)\n",
    "    #d[model.__class__.__name__] = acc  # Store model name and accuracy\n",
    "\n",
    "#print(d)  # Check accuracy of all models\n"
   ]
  },
  {
   "cell_type": "code",
   "execution_count": null,
   "metadata": {},
   "outputs": [
    {
     "name": "stdout",
     "output_type": "stream",
     "text": [
      "Logistic Regression Accuracy: 0.815471965933286\n"
     ]
    }
   ],
   "source": [
    "\n",
    "log_reg = LogisticRegression(max_iter=500)  # Increase iterations\n",
    "log_reg.fit(X_train_scaled, y_train)  # Train with scaled data\n",
    "pred_log_reg = log_reg.predict(X_test_scaled)\n",
    "\n",
    "print(\"Logistic Regression Accuracy:\", accuracy_score(y_test, pred_log_reg))\n"
   ]
  },
  {
   "cell_type": "code",
   "execution_count": null,
   "metadata": {},
   "outputs": [
    {
     "name": "stdout",
     "output_type": "stream",
     "text": [
      "Best Parameters: {'C': 10, 'max_iter': 500}\n",
      "Best Accuracy: 0.8006740730117052\n"
     ]
    }
   ],
   "source": [
    "from sklearn.model_selection import GridSearchCV\n",
    "\n",
    "param_grid = {'C': [0.01, 0.1, 1, 10, 100], 'max_iter': [500, 1000]}\n",
    "grid_search = GridSearchCV(LogisticRegression(), param_grid, cv=5)\n",
    "grid_search.fit(X_train_scaled, y_train)\n",
    "\n",
    "print(\"Best Parameters:\", grid_search.best_params_)\n",
    "print(\"Best Accuracy:\", grid_search.best_score_)\n"
   ]
  },
  {
   "cell_type": "code",
   "execution_count": null,
   "metadata": {},
   "outputs": [],
   "source": [
    "model = [a for a,b in d.items() if b ==min(d.values())][0]"
   ]
  },
  {
   "cell_type": "code",
   "execution_count": null,
   "metadata": {},
   "outputs": [],
   "source": [
    "import joblib"
   ]
  },
  {
   "cell_type": "code",
   "execution_count": 25,
   "metadata": {},
   "outputs": [],
   "source": [
    "#joblib.dump(model,r'C:\\Users\\kajal shukla\\Desktop\\Data Science\\ML BOOTCAMP\\models\\model')"
   ]
  },
  {
   "cell_type": "markdown",
   "metadata": {},
   "source": []
  }
 ],
 "metadata": {
  "kernelspec": {
   "display_name": ".venv",
   "language": "python",
   "name": "python3"
  },
  "language_info": {
   "codemirror_mode": {
    "name": "ipython",
    "version": 3
   },
   "file_extension": ".py",
   "mimetype": "text/x-python",
   "name": "python",
   "nbconvert_exporter": "python",
   "pygments_lexer": "ipython3",
   "version": "3.13.0"
  }
 },
 "nbformat": 4,
 "nbformat_minor": 2
}
